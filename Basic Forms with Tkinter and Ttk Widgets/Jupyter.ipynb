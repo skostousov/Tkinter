{
 "cells": [
  {
   "cell_type": "code",
   "execution_count": null,
   "metadata": {},
   "outputs": [],
   "source": [
    "def fibs(amount):\n",
    "    list = [0, 1]\n",
    "    for i in range(amount):\n",
    "        list.append(list[0]+list[1])\n",
    "        print(list[0] + list[1])\n",
    "        list.pop(0)\n",
    "fibs(34)"
   ]
  },
  {
   "cell_type": "code",
   "execution_count": 2,
   "metadata": {},
   "outputs": [],
   "source": [
    "import tkinter as tk\n",
    "from tkinter import ttk"
   ]
  },
  {
   "cell_type": "code",
   "execution_count": null,
   "metadata": {},
   "outputs": [],
   "source": []
  }
 ],
 "metadata": {
  "kernelspec": {
   "display_name": "Python 3",
   "language": "python",
   "name": "python3"
  },
  "language_info": {
   "codemirror_mode": {
    "name": "ipython",
    "version": 3
   },
   "file_extension": ".py",
   "mimetype": "text/x-python",
   "name": "python",
   "nbconvert_exporter": "python",
   "pygments_lexer": "ipython3",
   "version": "3.10.4"
  },
  "vscode": {
   "interpreter": {
    "hash": "f5d24f985d3f1f0cd288ab4f97da25793fc87f1b93d130ad562104829570eb75"
   }
  }
 },
 "nbformat": 4,
 "nbformat_minor": 4
}
